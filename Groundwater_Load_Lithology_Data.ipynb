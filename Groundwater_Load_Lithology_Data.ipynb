{
  "cells": [
    {
      "cell_type": "markdown",
      "metadata": {
        "id": "view-in-github",
        "colab_type": "text"
      },
      "source": [
        "<a href=\"https://colab.research.google.com/github/mgstockwell/water_well_prediction/blob/main/Groundwater_Load_Lithology_Data.ipynb\" target=\"_parent\"><img src=\"https://colab.research.google.com/assets/colab-badge.svg\" alt=\"Open In Colab\"/></a>"
      ]
    },
    {
      "cell_type": "code",
      "execution_count": null,
      "metadata": {
        "id": "krsLgVBYZw_A"
      },
      "outputs": [],
      "source": [
        "#@title Copyright 2019 Google LLC. { display-mode: \"form\" }\n",
        "# Licensed under the Apache License, Version 2.0 (the \"License\");\n",
        "# you may not use this file except in compliance with the License.\n",
        "# You may obtain a copy of the License at\n",
        "#\n",
        "# https://www.apache.org/licenses/LICENSE-2.0\n",
        "#\n",
        "# Unless required by applicable law or agreed to in writing, software\n",
        "# distributed under the License is distributed on an \"AS IS\" BASIS,\n",
        "# WITHOUT WARRANTIES OR CONDITIONS OF ANY KIND, either express or implied.\n",
        "# See the License for the specific language governing permissions and\n",
        "# limitations under the License."
      ]
    },
    {
      "cell_type": "markdown",
      "metadata": {
        "id": "aV1xZ1CPi3Nw"
      },
      "source": [
        "<table class=\"ee-notebook-buttons\" align=\"left\"><td>\n",
        "<a target=\"_blank\"  href=\"http://colab.research.google.com/github/google/earthengine-api/blob/master/python/examples/ipynb/ee-api-colab-setup.ipynb\">\n",
        "    <img src=\"https://www.tensorflow.org/images/colab_logo_32px.png\" /> Run in Google Colab</a>\n",
        "</td><td>\n",
        "<a target=\"_blank\"  href=\"https://github.com/google/earthengine-api/blob/master/python/examples/ipynb/ee-api-colab-setup.ipynb\"><img width=32px src=\"https://www.tensorflow.org/images/GitHub-Mark-32px.png\" /> View source on GitHub</a></td></table>"
      ]
    },
    {
      "cell_type": "markdown",
      "metadata": {
        "id": "LAZiVi13zTE7"
      },
      "source": [
        "# Earth Engine Python API Colab Setup\n",
        "\n",
        "This notebook demonstrates how to setup the Earth Engine Python API in Colab and provides several examples of how to print and visualize Earth Engine processed data.\n",
        "\n",
        "### Authenticate and initialize\n",
        "\n",
        "Run the `ee.Authenticate` function to authenticate your access to Earth Engine servers and `ee.Initialize` to initialize it. Upon running the following cell you'll be asked to grant Earth Engine access to your Google account. Follow the instructions printed to the cell."
      ]
    },
    {
      "cell_type": "code",
      "execution_count": null,
      "metadata": {
        "colab": {
          "base_uri": "https://localhost:8080/",
          "height": 73,
          "resources": {
            "http://localhost:8080/nbextensions/google.colab/files.js": {
              "data": "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",
              "headers": [
                [
                  "content-type",
                  "application/javascript"
                ]
              ],
              "ok": true,
              "status": 200,
              "status_text": ""
            }
          }
        },
        "id": "NMp9Ei9b0XXL",
        "outputId": "9deb140f-f4ac-4626-afb8-7dc9228f7fc6"
      },
      "outputs": [
        {
          "data": {
            "text/html": [
              "\n",
              "     <input type=\"file\" id=\"files-06914cc6-bbea-4816-8fe6-7bd58901c41d\" name=\"files[]\" multiple disabled\n",
              "        style=\"border:none\" />\n",
              "     <output id=\"result-06914cc6-bbea-4816-8fe6-7bd58901c41d\">\n",
              "      Upload widget is only available when the cell has been executed in the\n",
              "      current browser session. Please rerun this cell to enable.\n",
              "      </output>\n",
              "      <script src=\"/nbextensions/google.colab/files.js\"></script> "
            ],
            "text/plain": [
              "<IPython.core.display.HTML object>"
            ]
          },
          "metadata": {},
          "output_type": "display_data"
        },
        {
          "name": "stdout",
          "output_type": "stream",
          "text": [
            "Saving msd8654-498-dev-bb45b07b4be4.json to msd8654-498-dev-bb45b07b4be4.json\n"
          ]
        }
      ],
      "source": [
        "# import the Earth Engine API\n",
        "import os, sys\n",
        "from google.colab import files\n",
        "import ee\n",
        "from google.auth.transport.requests import AuthorizedSession\n",
        "from google.oauth2 import service_account\n",
        "import pandas as pd\n",
        "\n",
        "project = 'msd8654-498-dev'\n",
        "#!gcloud auth login --project {PROJECT}\n",
        "if os.path.exists('/content/msd8654-498-dev-bb45b07b4be4.json'):\n",
        "  print('key exists')\n",
        "else:\n",
        "  KEY = files.upload()\n",
        "service_account = 'my-first-app-92f7826c73ade84fa@msd8654-498-dev.iam.gserviceaccount.com'\n",
        "credentials = ee.ServiceAccountCredentials(service_account, '/content/msd8654-498-dev-bb45b07b4be4.json')\n",
        "\n",
        "# Trigger the authentication flow.\n",
        "# ee.Authenticate()\n",
        "\n",
        "ee.Initialize(\n",
        "  credentials=credentials,\n",
        "  project=project,\n",
        "  opt_url='https://earthengine-highvolume.googleapis.com'\n",
        ")\n",
        "\n",
        "df = pd.DataFrame()\n",
        "df_state_cds = pd.DataFrame()\n"
      ]
    },
    {
      "cell_type": "markdown",
      "metadata": {
        "id": "8I_Fr0L5AFmu"
      },
      "source": [
        "## Test the API\n",
        "\n",
        "Test the API by printing the elevation of Mount Everest."
      ]
    },
    {
      "cell_type": "code",
      "execution_count": null,
      "metadata": {
        "colab": {
          "base_uri": "https://localhost:8080/"
        },
        "id": "v7pD6pDOAhOW",
        "outputId": "156626bc-c57d-49f8-aec0-4f0b40a4cb32"
      },
      "outputs": [
        {
          "name": "stdout",
          "output_type": "stream",
          "text": [
            "Mount Everest elevation (m): 8729\n"
          ]
        }
      ],
      "source": [
        "# Print the elevation of Mount Everest.\n",
        "dem = ee.Image('USGS/SRTMGL1_003')\n",
        "xy = ee.Geometry.Point([86.9250, 27.9881])\n",
        "elev = dem.sample(xy, 30).first().get('elevation').getInfo()\n",
        "print('Mount Everest elevation (m):', elev)"
      ]
    },
    {
      "cell_type": "code",
      "execution_count": null,
      "metadata": {
        "colab": {
          "base_uri": "https://localhost:8080/"
        },
        "id": "4ViXNPtJPjmZ",
        "outputId": "5029ae6e-a7b4-4099-ee11-120abaefbb15"
      },
      "outputs": [
        {
          "name": "stdout",
          "output_type": "stream",
          "text": [
            "Authenticated\n"
          ]
        }
      ],
      "source": [
        "import os\n",
        "import json\n",
        "import datetime\n",
        "from google.cloud import bigquery\n",
        "from google.oauth2 import service_account\n",
        "from google.colab import auth\n",
        "\n",
        "google_project_id = 'msd8654-498-dev'\n",
        "# Set the project id\n",
        "os.environ.putenv('GOOGLE_CLOUD_PROJECT', google_project_id)\n",
        "\n",
        "# logon and get credentials.\n",
        "if os.getenv('GAE_ENV', '').startswith('standard'):\n",
        "  # Production in the standard environment, all OK\n",
        "  None\n",
        "elif os.path.exists(google_project_id + \".json\"):\n",
        "  # Local execution.\n",
        "  key_path = google_project_id + \".json\"\n",
        "  credentials = service_account.Credentials.from_service_account_file(\n",
        "      key_path, scopes=[\"https://www.googleapis.com/auth/cloud-platform\"],\n",
        "  )\n",
        "  client = bigquery.Client(credentials=credentials, project=credentials.project_id,)\n",
        "else:\n",
        "  auth.authenticate_user()\n",
        "\n",
        "client = bigquery.Client(project=google_project_id)\n",
        "print('Authenticated')\n",
        "\n"
      ]
    },
    {
      "cell_type": "markdown",
      "source": [
        "## BigQuery Upload Function"
      ],
      "metadata": {
        "id": "VlsZU6gNYal-"
      }
    },
    {
      "cell_type": "code",
      "execution_count": null,
      "metadata": {
        "id": "1tr04YNYeXmg"
      },
      "outputs": [],
      "source": [
        "from google.cloud import storage\n",
        "from google.cloud import bigquery\n",
        "import urllib.request\n",
        "import os, datetime\n",
        "\n",
        "# note: google_project_name  & google_dataset_name at top (global)\n",
        "\n",
        "def upload_blob(bucket_name, source_file_name, destination_blob_name):\n",
        "    \"\"\"Uploads a file to the google storage bucket.\"\"\"\n",
        "\n",
        "    storage_client = storage.Client(project=google_project_id)\n",
        "    bucket = storage_client.bucket(bucket_name)\n",
        "    blob = bucket.blob(destination_blob_name)\n",
        "\n",
        "    blob.upload_from_filename(source_file_name)\n",
        "\n",
        "    print(\n",
        "        \"File {} uploaded to Storage Bucket {} successfully . {}\".format(\n",
        "            source_file_name, destination_blob_name, datetime.datetime.now()\n",
        "        )\n",
        "    )"
      ]
    },
    {
      "cell_type": "markdown",
      "metadata": {
        "id": "7sgLkjWDUU0o"
      },
      "source": [
        "# Use BigQuery via magics\n",
        "\n",
        "The `google.cloud.bigquery` library also includes a magic command which runs a query and either displays the result or saves it to a variable as a `DataFrame`."
      ]
    },
    {
      "cell_type": "code",
      "execution_count": null,
      "metadata": {
        "id": "cTqBX_hdT-va"
      },
      "outputs": [],
      "source": [
        "# Save output in a variable `df`\n",
        "%%bigquery --project msd8654-498-dev df\n",
        "SELECT\n",
        "          DISTINCT site_no,\n",
        "          station_nm,\n",
        "          site_tp_cd,\n",
        "          lat_va,\n",
        "          long_va,\n",
        "          dec_lat_va,\n",
        "          dec_long_va,\n",
        "          district_cd,\n",
        "          right(concat('0',state_cd),2) state_cd,\n",
        "          county_cd,\n",
        "          well_depth_va,\n",
        "          well_depth_hue\n",
        "        FROM\n",
        "          `msd8654-498-dev.usgs.groundwater_sites_vis`\n",
        "        WHERE\n",
        "          well_depth_va IS NOT NULL\n",
        "          and dec_lat_va is not null\n",
        "          and dec_long_va is not null\n",
        "          and cast(state_cd as int) > 25"
      ]
    },
    {
      "cell_type": "code",
      "execution_count": null,
      "metadata": {
        "colab": {
          "base_uri": "https://localhost:8080/",
          "height": 870
        },
        "id": "rPpjLTzqkN1c",
        "outputId": "111a2770-be9e-4c90-e277-5a8b46ac643f"
      },
      "outputs": [
        {
          "data": {
            "text/html": [
              "\n",
              "  <div id=\"df-21fbae11-f1e9-42c5-91ba-80af4a5421e4\">\n",
              "    <div class=\"colab-df-container\">\n",
              "      <div>\n",
              "<style scoped>\n",
              "    .dataframe tbody tr th:only-of-type {\n",
              "        vertical-align: middle;\n",
              "    }\n",
              "\n",
              "    .dataframe tbody tr th {\n",
              "        vertical-align: top;\n",
              "    }\n",
              "\n",
              "    .dataframe thead th {\n",
              "        text-align: right;\n",
              "    }\n",
              "</style>\n",
              "<table border=\"1\" class=\"dataframe\">\n",
              "  <thead>\n",
              "    <tr style=\"text-align: right;\">\n",
              "      <th></th>\n",
              "      <th>site_no</th>\n",
              "      <th>station_nm</th>\n",
              "      <th>site_tp_cd</th>\n",
              "      <th>lat_va</th>\n",
              "      <th>long_va</th>\n",
              "      <th>dec_lat_va</th>\n",
              "      <th>dec_long_va</th>\n",
              "      <th>district_cd</th>\n",
              "      <th>state_cd</th>\n",
              "      <th>county_cd</th>\n",
              "      <th>well_depth_va</th>\n",
              "      <th>well_depth_hue</th>\n",
              "    </tr>\n",
              "  </thead>\n",
              "  <tbody>\n",
              "    <tr>\n",
              "      <th>0</th>\n",
              "      <td>415235083414001</td>\n",
              "      <td>07S 06E 15ADBB01 MONROE CO (PETERSBURG S)</td>\n",
              "      <td>GW</td>\n",
              "      <td>415234.8</td>\n",
              "      <td>834139.5</td>\n",
              "      <td>41.876333</td>\n",
              "      <td>-83.694306</td>\n",
              "      <td>26</td>\n",
              "      <td>26</td>\n",
              "      <td>115</td>\n",
              "      <td>17.0</td>\n",
              "      <td>2</td>\n",
              "    </tr>\n",
              "    <tr>\n",
              "      <th>1</th>\n",
              "      <td>461605086374101</td>\n",
              "      <td>45N 19W 25BDDC 01 ALGER KENTUCKY CCC</td>\n",
              "      <td>GW</td>\n",
              "      <td>461607.2</td>\n",
              "      <td>863737.6</td>\n",
              "      <td>46.268620</td>\n",
              "      <td>-86.627265</td>\n",
              "      <td>26</td>\n",
              "      <td>26</td>\n",
              "      <td>3</td>\n",
              "      <td>67.0</td>\n",
              "      <td>3</td>\n",
              "    </tr>\n",
              "    <tr>\n",
              "      <th>2</th>\n",
              "      <td>465002089321601</td>\n",
              "      <td>51N 41W 08BDBC01 ONTONAGON CO (SILVER CITY)</td>\n",
              "      <td>GW</td>\n",
              "      <td>465000.1</td>\n",
              "      <td>893217.3</td>\n",
              "      <td>46.833306</td>\n",
              "      <td>-89.538289</td>\n",
              "      <td>26</td>\n",
              "      <td>26</td>\n",
              "      <td>131</td>\n",
              "      <td>100.0</td>\n",
              "      <td>4</td>\n",
              "    </tr>\n",
              "    <tr>\n",
              "      <th>3</th>\n",
              "      <td>462159084442201</td>\n",
              "      <td>46N 04W 24DAAD01 CHIPPEWA CO (RACO)</td>\n",
              "      <td>GW</td>\n",
              "      <td>462159.4</td>\n",
              "      <td>844420.8</td>\n",
              "      <td>46.366519</td>\n",
              "      <td>-84.739169</td>\n",
              "      <td>26</td>\n",
              "      <td>26</td>\n",
              "      <td>33</td>\n",
              "      <td>53.9</td>\n",
              "      <td>3</td>\n",
              "    </tr>\n",
              "    <tr>\n",
              "      <th>4</th>\n",
              "      <td>433133086082601</td>\n",
              "      <td>13N 15W 18AAAA01 OCEANA CO (HESPERIA)</td>\n",
              "      <td>GW</td>\n",
              "      <td>433133.9</td>\n",
              "      <td>860825.6</td>\n",
              "      <td>43.526096</td>\n",
              "      <td>-86.140510</td>\n",
              "      <td>26</td>\n",
              "      <td>26</td>\n",
              "      <td>127</td>\n",
              "      <td>76.1</td>\n",
              "      <td>3</td>\n",
              "    </tr>\n",
              "    <tr>\n",
              "      <th>...</th>\n",
              "      <td>...</td>\n",
              "      <td>...</td>\n",
              "      <td>...</td>\n",
              "      <td>...</td>\n",
              "      <td>...</td>\n",
              "      <td>...</td>\n",
              "      <td>...</td>\n",
              "      <td>...</td>\n",
              "      <td>...</td>\n",
              "      <td>...</td>\n",
              "      <td>...</td>\n",
              "      <td>...</td>\n",
              "    </tr>\n",
              "    <tr>\n",
              "      <th>564509</th>\n",
              "      <td>433332108483601</td>\n",
              "      <td>7N-01E-30ba 01</td>\n",
              "      <td>GW</td>\n",
              "      <td>433332</td>\n",
              "      <td>1084836</td>\n",
              "      <td>43.558844</td>\n",
              "      <td>-108.810677</td>\n",
              "      <td>56</td>\n",
              "      <td>56</td>\n",
              "      <td>13</td>\n",
              "      <td>1272.0</td>\n",
              "      <td>6</td>\n",
              "    </tr>\n",
              "    <tr>\n",
              "      <th>564510</th>\n",
              "      <td>425443108473301</td>\n",
              "      <td>2S-01E-05ccc01</td>\n",
              "      <td>GW</td>\n",
              "      <td>425442</td>\n",
              "      <td>1084735</td>\n",
              "      <td>42.911625</td>\n",
              "      <td>-108.793731</td>\n",
              "      <td>56</td>\n",
              "      <td>56</td>\n",
              "      <td>13</td>\n",
              "      <td>50.0</td>\n",
              "      <td>3</td>\n",
              "    </tr>\n",
              "    <tr>\n",
              "      <th>564511</th>\n",
              "      <td>423127108132200</td>\n",
              "      <td>30-095-31ad 01</td>\n",
              "      <td>GW</td>\n",
              "      <td>423127</td>\n",
              "      <td>1081322</td>\n",
              "      <td>42.524127</td>\n",
              "      <td>-108.223428</td>\n",
              "      <td>56</td>\n",
              "      <td>56</td>\n",
              "      <td>13</td>\n",
              "      <td>75.0</td>\n",
              "      <td>3</td>\n",
              "    </tr>\n",
              "    <tr>\n",
              "      <th>564512</th>\n",
              "      <td>441703108003602</td>\n",
              "      <td>50-093-22ddd02</td>\n",
              "      <td>GW</td>\n",
              "      <td>441703</td>\n",
              "      <td>1080036</td>\n",
              "      <td>44.284124</td>\n",
              "      <td>-108.010655</td>\n",
              "      <td>56</td>\n",
              "      <td>56</td>\n",
              "      <td>3</td>\n",
              "      <td>25.0</td>\n",
              "      <td>2</td>\n",
              "    </tr>\n",
              "    <tr>\n",
              "      <th>564513</th>\n",
              "      <td>442726108031402</td>\n",
              "      <td>52-093-29aab02</td>\n",
              "      <td>GW</td>\n",
              "      <td>442726</td>\n",
              "      <td>1080314</td>\n",
              "      <td>44.457180</td>\n",
              "      <td>-108.054546</td>\n",
              "      <td>56</td>\n",
              "      <td>56</td>\n",
              "      <td>3</td>\n",
              "      <td>80.0</td>\n",
              "      <td>3</td>\n",
              "    </tr>\n",
              "  </tbody>\n",
              "</table>\n",
              "<p>564514 rows × 12 columns</p>\n",
              "</div>\n",
              "      <button class=\"colab-df-convert\" onclick=\"convertToInteractive('df-21fbae11-f1e9-42c5-91ba-80af4a5421e4')\"\n",
              "              title=\"Convert this dataframe to an interactive table.\"\n",
              "              style=\"display:none;\">\n",
              "        \n",
              "  <svg xmlns=\"http://www.w3.org/2000/svg\" height=\"24px\"viewBox=\"0 0 24 24\"\n",
              "       width=\"24px\">\n",
              "    <path d=\"M0 0h24v24H0V0z\" fill=\"none\"/>\n",
              "    <path d=\"M18.56 5.44l.94 2.06.94-2.06 2.06-.94-2.06-.94-.94-2.06-.94 2.06-2.06.94zm-11 1L8.5 8.5l.94-2.06 2.06-.94-2.06-.94L8.5 2.5l-.94 2.06-2.06.94zm10 10l.94 2.06.94-2.06 2.06-.94-2.06-.94-.94-2.06-.94 2.06-2.06.94z\"/><path d=\"M17.41 7.96l-1.37-1.37c-.4-.4-.92-.59-1.43-.59-.52 0-1.04.2-1.43.59L10.3 9.45l-7.72 7.72c-.78.78-.78 2.05 0 2.83L4 21.41c.39.39.9.59 1.41.59.51 0 1.02-.2 1.41-.59l7.78-7.78 2.81-2.81c.8-.78.8-2.07 0-2.86zM5.41 20L4 18.59l7.72-7.72 1.47 1.35L5.41 20z\"/>\n",
              "  </svg>\n",
              "      </button>\n",
              "      \n",
              "  <style>\n",
              "    .colab-df-container {\n",
              "      display:flex;\n",
              "      flex-wrap:wrap;\n",
              "      gap: 12px;\n",
              "    }\n",
              "\n",
              "    .colab-df-convert {\n",
              "      background-color: #E8F0FE;\n",
              "      border: none;\n",
              "      border-radius: 50%;\n",
              "      cursor: pointer;\n",
              "      display: none;\n",
              "      fill: #1967D2;\n",
              "      height: 32px;\n",
              "      padding: 0 0 0 0;\n",
              "      width: 32px;\n",
              "    }\n",
              "\n",
              "    .colab-df-convert:hover {\n",
              "      background-color: #E2EBFA;\n",
              "      box-shadow: 0px 1px 2px rgba(60, 64, 67, 0.3), 0px 1px 3px 1px rgba(60, 64, 67, 0.15);\n",
              "      fill: #174EA6;\n",
              "    }\n",
              "\n",
              "    [theme=dark] .colab-df-convert {\n",
              "      background-color: #3B4455;\n",
              "      fill: #D2E3FC;\n",
              "    }\n",
              "\n",
              "    [theme=dark] .colab-df-convert:hover {\n",
              "      background-color: #434B5C;\n",
              "      box-shadow: 0px 1px 3px 1px rgba(0, 0, 0, 0.15);\n",
              "      filter: drop-shadow(0px 1px 2px rgba(0, 0, 0, 0.3));\n",
              "      fill: #FFFFFF;\n",
              "    }\n",
              "  </style>\n",
              "\n",
              "      <script>\n",
              "        const buttonEl =\n",
              "          document.querySelector('#df-21fbae11-f1e9-42c5-91ba-80af4a5421e4 button.colab-df-convert');\n",
              "        buttonEl.style.display =\n",
              "          google.colab.kernel.accessAllowed ? 'block' : 'none';\n",
              "\n",
              "        async function convertToInteractive(key) {\n",
              "          const element = document.querySelector('#df-21fbae11-f1e9-42c5-91ba-80af4a5421e4');\n",
              "          const dataTable =\n",
              "            await google.colab.kernel.invokeFunction('convertToInteractive',\n",
              "                                                     [key], {});\n",
              "          if (!dataTable) return;\n",
              "\n",
              "          const docLinkHtml = 'Like what you see? Visit the ' +\n",
              "            '<a target=\"_blank\" href=https://colab.research.google.com/notebooks/data_table.ipynb>data table notebook</a>'\n",
              "            + ' to learn more about interactive tables.';\n",
              "          element.innerHTML = '';\n",
              "          dataTable['output_type'] = 'display_data';\n",
              "          await google.colab.output.renderOutput(dataTable, element);\n",
              "          const docLink = document.createElement('div');\n",
              "          docLink.innerHTML = docLinkHtml;\n",
              "          element.appendChild(docLink);\n",
              "        }\n",
              "      </script>\n",
              "    </div>\n",
              "  </div>\n",
              "  "
            ],
            "text/plain": [
              "                site_no                                   station_nm  \\\n",
              "0       415235083414001    07S 06E 15ADBB01 MONROE CO (PETERSBURG S)   \n",
              "1       461605086374101         45N 19W 25BDDC 01 ALGER KENTUCKY CCC   \n",
              "2       465002089321601  51N 41W 08BDBC01 ONTONAGON CO (SILVER CITY)   \n",
              "3       462159084442201          46N 04W 24DAAD01 CHIPPEWA CO (RACO)   \n",
              "4       433133086082601        13N 15W 18AAAA01 OCEANA CO (HESPERIA)   \n",
              "...                 ...                                          ...   \n",
              "564509  433332108483601                               7N-01E-30ba 01   \n",
              "564510  425443108473301                               2S-01E-05ccc01   \n",
              "564511  423127108132200                               30-095-31ad 01   \n",
              "564512  441703108003602                               50-093-22ddd02   \n",
              "564513  442726108031402                               52-093-29aab02   \n",
              "\n",
              "       site_tp_cd    lat_va   long_va  dec_lat_va  dec_long_va district_cd  \\\n",
              "0              GW  415234.8  834139.5   41.876333   -83.694306          26   \n",
              "1              GW  461607.2  863737.6   46.268620   -86.627265          26   \n",
              "2              GW  465000.1  893217.3   46.833306   -89.538289          26   \n",
              "3              GW  462159.4  844420.8   46.366519   -84.739169          26   \n",
              "4              GW  433133.9  860825.6   43.526096   -86.140510          26   \n",
              "...           ...       ...       ...         ...          ...         ...   \n",
              "564509         GW    433332   1084836   43.558844  -108.810677          56   \n",
              "564510         GW    425442   1084735   42.911625  -108.793731          56   \n",
              "564511         GW    423127   1081322   42.524127  -108.223428          56   \n",
              "564512         GW    441703   1080036   44.284124  -108.010655          56   \n",
              "564513         GW    442726   1080314   44.457180  -108.054546          56   \n",
              "\n",
              "       state_cd county_cd  well_depth_va  well_depth_hue  \n",
              "0            26       115           17.0               2  \n",
              "1            26         3           67.0               3  \n",
              "2            26       131          100.0               4  \n",
              "3            26        33           53.9               3  \n",
              "4            26       127           76.1               3  \n",
              "...         ...       ...            ...             ...  \n",
              "564509       56        13         1272.0               6  \n",
              "564510       56        13           50.0               3  \n",
              "564511       56        13           75.0               3  \n",
              "564512       56         3           25.0               2  \n",
              "564513       56         3           80.0               3  \n",
              "\n",
              "[564514 rows x 12 columns]"
            ]
          },
          "execution_count": 7,
          "metadata": {},
          "output_type": "execute_result"
        }
      ],
      "source": [
        "df"
      ]
    },
    {
      "cell_type": "code",
      "execution_count": null,
      "metadata": {
        "id": "QlWrIaYyUi2R"
      },
      "outputs": [],
      "source": [
        "# Save output in a variable `df_state_cds`\n",
        "\n",
        "%%bigquery --project msd8654-498-dev df_state_cds\n",
        "SELECT\n",
        "  state_fips_code,\n",
        "  state_postal_abbreviation,\n",
        "  state_name,\n",
        "  state_gnisid\n",
        "FROM\n",
        "  `bigquery-public-data.census_utility.fips_codes_states`\n",
        "  where state_fips_code >'25'\n"
      ]
    },
    {
      "cell_type": "code",
      "execution_count": null,
      "metadata": {
        "id": "sMV17ZlckQxw"
      },
      "outputs": [],
      "source": [
        "display(df_state_cds)"
      ]
    },
    {
      "cell_type": "markdown",
      "metadata": {
        "id": "Jro7lKdzIV-F"
      },
      "source": [
        "### Get Lithology from Earth Engine assets\n",
        "[Global ALOS mTPI (Multi-Scale Topographic Position Index)](https://developers.google.com/earth-engine/datasets/catalog/CSP_ERGo_1_0_Global_ALOS_mTPI#description)\n",
        "The image layer is made up of many polygons with a \"band\" value. The lat/long point will fall within a polygon, and the value of band (in this case relative elevation) will be returned.\n",
        "\n",
        "  <p></p>\n",
        "\n",
        "```\n",
        "Resolution\n",
        "270 meters\n",
        "\n",
        "Bands\n",
        "\n",
        "Name\t    Units\t  Min\t    Max\t\n",
        "AVE\t      Meters\t-3758*\t10963*\t\n",
        "Description: ALOS-derived mTPI ranging from negative (valleys) to positive (ridges) values\n",
        "```\n"
      ]
    },
    {
      "cell_type": "code",
      "execution_count": null,
      "metadata": {
        "id": "Ag4yBH6qbMqN"
      },
      "outputs": [],
      "source": [
        "from time import sleep\n",
        "import pandas as pd\n",
        "\n",
        "# Check a known point\n",
        "# Point (-75.7778, 40.4375) at 76m/px\n",
        "# Pixels\n",
        "# Lithology: Image (1 band)\n",
        "# b1: 3\n",
        "# ALOS mTPI: Image (1 band)\n",
        "# AVE: -5\n",
        "\n",
        "dem = ee.Image('CSP/ERGo/1_0/US/lithology')\n",
        "\n",
        "def get_lith(long: float, lat: float):\n",
        "  xy = ee.Geometry.Point([long,lat])\n",
        "  data = dem.sample(xy, 10).first().get('b1').getInfo()\n",
        "  #print(counter, 'Litholoy band value', lat, long, data )\n",
        "  return data\n",
        "\n",
        "'''0 site_no        350160106324201\n",
        "dec_lat_va           35.033358\n",
        "dec_long_va        -106.545522\n",
        "'''\n",
        "print(datetime.datetime.now(), 'START')\n",
        "\n",
        "for j, row in df_state_cds.iterrows():\n",
        "  state_postal_abbreviation = row[\"state_postal_abbreviation\"]\n",
        "  print(\"state_cd:\", state_postal_abbreviation)\n",
        "  df_filtered = df[df.state_cd==row[\"state_fips_code\"]]\n",
        "  filename = f'lithology{state_postal_abbreviation}.csv'\n",
        "  file = open(filename,'w')\n",
        "  for i, row in df_filtered.iterrows():\n",
        "    try:\n",
        "      val = get_lith(row[\"dec_long_va\"], row[\"dec_lat_va\"])\n",
        "      file.writelines(str(i) + \",\" + row[\"site_no\"] + \",\" + str(val) + '\\n')\n",
        "    except BaseException as err:\n",
        "      print(f\"   Unexpected {err}, {type(err)}\")\n",
        "      print('ERROR processed:',i,row.to_json(), val, \" \"*10, datetime.datetime.now())\n",
        "      continue\n",
        "\n",
        "    if (i%1000==0): \n",
        "      print('processed:',i,row[\"site_no\"], val,state_postal_abbreviation ,\" \"*10, datetime.datetime.now())\n",
        "      sleep(10)\n",
        "  file.close()\n",
        "  upload_blob('msd8654-498-dev-usgs',filename, filename)\n",
        "print(datetime.datetime.now(), 'END')\n"
      ]
    },
    {
      "cell_type": "markdown",
      "source": [
        "### Check One Point"
      ],
      "metadata": {
        "id": "U9eT1BqUYIXu"
      }
    },
    {
      "cell_type": "code",
      "execution_count": null,
      "metadata": {
        "colab": {
          "base_uri": "https://localhost:8080/"
        },
        "id": "RYfbfi2sHltJ",
        "outputId": "b458d912-36e5-45fc-cc23-3caedae49c83"
      },
      "outputs": [
        {
          "name": "stdout",
          "output_type": "stream",
          "text": [
            "-8\n"
          ]
        }
      ],
      "source": [
        "#ERROR processed: 26637 {\"site_no\":\"353545121072901\",\"station_nm\":\"027S008E08R005M\",\"site_tp_cd\":\"GW\",\"lat_va\":\"353545\",\"long_va\":\"1210729\",\n",
        "# \"dec_lat_va\":35.5958041,\"dec_long_va\":-121.1257494,\"district_cd\":\"6\",\"state_cd\":\"06\",\"county_cd\":\"79\",\"well_depth_va\":145.0,\"well_depth_hue\":4} \n",
        "#None            2022-05-21 04:19:59.902246\n",
        "# processed: 27000 335734118165601 None CA            2022-05-21 04:25:19.321003\n",
        "#   Unexpected Element.get: Parameter 'object' is required., <class 'ee.ee_exception.EEException'>\n",
        "\n",
        "dem = ee.Image('CSP/ERGo/1_0/US/lithology')\n",
        "\n",
        "def get_lith(long: float, lat: float):\n",
        "  xy = ee.Geometry.Point([long,lat])\n",
        "  data = dem.sample(xy, 10).first().get('b1').getInfo()\n",
        "  #print(counter, 'Litholoy band value', lat, long, data )\n",
        "  return data\n",
        "\n",
        "val = get_lith(-121.1257494, 35.5958041)\n",
        "print(val)"
      ]
    }
  ],
  "metadata": {
    "colab": {
      "collapsed_sections": [],
      "name": "Groundwater - Load Lithology Data",
      "provenance": [],
      "toc_visible": true,
      "include_colab_link": true
    },
    "kernelspec": {
      "display_name": "Python 3",
      "name": "python3"
    }
  },
  "nbformat": 4,
  "nbformat_minor": 0
}