{
  "nbformat": 4,
  "nbformat_minor": 0,
  "metadata": {
    "colab": {
      "name": "Groundwater - Load USGS Sites",
      "provenance": [],
      "collapsed_sections": [],
      "toc_visible": true,
      "authorship_tag": "ABX9TyPAy0el4glPky7G4WSb5OSq",
      "include_colab_link": true
    },
    "kernelspec": {
      "name": "python3",
      "display_name": "Python 3"
    },
    "language_info": {
      "name": "python"
    }
  },
  "cells": [
    {
      "cell_type": "markdown",
      "metadata": {
        "id": "view-in-github",
        "colab_type": "text"
      },
      "source": [
        "<a href=\"https://colab.research.google.com/github/mgstockwell/water_well_prediction/blob/main/Groundwater_Load_USGS_Sites.ipynb\" target=\"_parent\"><img src=\"https://colab.research.google.com/assets/colab-badge.svg\" alt=\"Open In Colab\"/></a>"
      ]
    },
    {
      "cell_type": "markdown",
      "source": [
        "# Google Setup"
      ],
      "metadata": {
        "id": "_QtdFUx6utvc"
      }
    },
    {
      "cell_type": "code",
      "metadata": {
        "id": "9EKo-EKVX7Q3",
        "colab": {
          "base_uri": "https://localhost:8080/"
        },
        "outputId": "85cb04f6-bdad-4919-db44-c1c3a8024d63"
      },
      "source": [
        "from google.colab import auth\n",
        "auth.authenticate_user()\n",
        "print('Authenticated')\n",
        "\n",
        "google_project_name = \"msd8654-498-dev\"\n",
        "google_dataset_name = \"usgs\""
      ],
      "execution_count": null,
      "outputs": [
        {
          "output_type": "stream",
          "name": "stdout",
          "text": [
            "Authenticated\n"
          ]
        }
      ]
    },
    {
      "cell_type": "markdown",
      "source": [
        "### Google upload blob function"
      ],
      "metadata": {
        "id": "thqeJNtICIse"
      }
    },
    {
      "cell_type": "code",
      "source": [
        "from google.cloud import storage\n",
        "from google.cloud import bigquery\n",
        "import urllib.request\n",
        "import os, datetime\n",
        "\n",
        "# note: google_project_name  & google_dataset_name at top (global)\n",
        "\n",
        "def upload_blob(bucket_name, source_file_name, destination_blob_name):\n",
        "    \"\"\"Uploads a file to the google storage bucket.\"\"\"\n",
        "\n",
        "    storage_client = storage.Client(project=google_project_name)\n",
        "    bucket = storage_client.bucket(bucket_name)\n",
        "    blob = bucket.blob(destination_blob_name)\n",
        "\n",
        "    blob.upload_from_filename(source_file_name)\n",
        "\n",
        "    print(\n",
        "        \"File {} uploaded to Storage Bucket {} successfully . {}\".format(\n",
        "            source_file_name, destination_blob_name, datetime.datetime.now()\n",
        "        )\n",
        "    )"
      ],
      "metadata": {
        "id": "AlvG1WvOCGPv"
      },
      "execution_count": null,
      "outputs": []
    },
    {
      "cell_type": "markdown",
      "source": [
        "# Get data from usgs.gov"
      ],
      "metadata": {
        "id": "LUYhCTNXuym4"
      }
    },
    {
      "cell_type": "code",
      "source": [
        "from google.cloud import bigquery\n",
        "\n",
        "bqclient = bigquery.Client()\n",
        "#SELECT state_postal_abbreviation FROM `bigquery-public-data.census_utility.fips_codes_states` \n",
        "# Download a table.\n",
        "table = bigquery.TableReference.from_string(\n",
        "    \"bigquery-public-data.census_utility.fips_codes_states\"\n",
        ")\n",
        "rows = bqclient.list_rows(\n",
        "    table\n",
        ")\n",
        "df = rows.to_dataframe()\n",
        "\n",
        "# continental states and HI/AK al under 60. US Virgin islands, PR, Guam filtered\n",
        "df = df[df.state_fips_code < '60']\n",
        "fips_codes_states = df[\"state_postal_abbreviation\"]\n",
        "print(fips_codes_states.head())"
      ],
      "metadata": {
        "colab": {
          "base_uri": "https://localhost:8080/"
        },
        "id": "hcT0QYKgdRb6",
        "outputId": "6cbfb679-51e7-4524-931a-61078ad5111c"
      },
      "execution_count": null,
      "outputs": [
        {
          "output_type": "stream",
          "name": "stdout",
          "text": [
            "0    AL\n",
            "1    AK\n",
            "2    AZ\n",
            "3    AR\n",
            "4    CA\n",
            "Name: state_postal_abbreviation, dtype: object\n"
          ]
        }
      ]
    },
    {
      "cell_type": "code",
      "metadata": {
        "id": "gXbJEz4SWmqw"
      },
      "source": [
        "import requests\n",
        "import json\n",
        "import pandas as pd\n",
        "from google.cloud import bigquery\n",
        "import urllib.request\n",
        "import os\n",
        "\n",
        "base_url = \"https://nwis.waterdata.usgs.gov/nwis/gwlevels?state_cd={state_cd}\"\n",
        "base_url = base_url + \"&group_key=NONE&format=sitefile_output&sitefile_output_format=rdb\"\n",
        "base_url = base_url + \"&date_format=YYYY-MM-DD&rdb_compression=file&list_of_search_criteria=state_cd\"\n",
        "column_list = ['agency_cd', 'site_no', 'station_nm', 'site_tp_cd', 'lat_va', 'long_va',\n",
        "    'dec_lat_va', 'dec_long_va', 'coord_meth_cd', 'coord_acy_cd', 'coord_datum_cd', \n",
        "    'dec_coord_datum_cd', 'district_cd', 'state_cd', 'county_cd', 'country_cd', \n",
        "    'land_net_ds', 'map_nm', 'map_scale_fc', 'alt_va', 'alt_meth_cd', 'alt_acy_va',\n",
        "    'alt_datum_cd', 'huc_cd', 'basin_cd', 'topo_cd', 'data_types_cd', 'instruments_cd',\n",
        "    'construction_dt', 'inventory_dt', 'drain_area_va', 'contrib_drain_area_va', 'tz_cd', \n",
        "    'local_time_fg', 'reliability_cd', 'gw_file_cd', 'nat_aqfr_cd', 'aqfr_cd', 'aqfr_type_cd',\n",
        "    'well_depth_va', 'hole_depth_va', 'depth_src_cd', 'project_no', 'rt_bol', 'peak_begin_date',\n",
        "    'peak_end_date', 'peak_count_nu', 'qw_begin_date', 'qw_end_date', 'qw_count_nu',\n",
        "    'gw_begin_date', 'gw_end_date', 'gw_count_nu', 'sv_begin_date', 'sv_end_date', 'sv_count_nu']\n",
        "\n",
        "for c in column_list:\n",
        "  base_url = base_url +\"&column_name=\" + c\n",
        "# print(base_url)\n",
        "\n",
        "for state_cd in fips_codes_states:\n",
        "  f = open(\"groundwater_sites_\" + state_cd + \".tmp\", 'w')\n",
        "  f2 = open(\"groundwater_sites_\" + state_cd + \".tsv\", 'w')\n",
        "  url = base_url.replace(\"{state_cd}\",state_cd.lower())\n",
        "  payload={}\n",
        "  headers = {}\n",
        "  response = requests.request(\"GET\", url, headers=headers, data=payload)\n",
        "  print(state_cd,\"Response code:\", response.status_code) \n",
        "  if (response.status_code>229):\n",
        "    print(\"ERROR\")\n",
        "    break;\n",
        "  else:\n",
        "    f.writelines(response.text)\n",
        "    f.close()\n",
        "\n",
        "  for line in open(\"groundwater_sites_\" + state_cd + \".tmp\", 'r'):\n",
        "    if (line.startswith(\"#\") or line.startswith(\"5s\")):\n",
        "      #print(line)\n",
        "      None\n",
        "    else:\n",
        "      f2.writelines(line)\n",
        "  f2.close()"
      ],
      "execution_count": null,
      "outputs": []
    },
    {
      "cell_type": "markdown",
      "source": [
        "# Combine tsv files, data cleansing"
      ],
      "metadata": {
        "id": "AYGlFecl-47t"
      }
    },
    {
      "cell_type": "code",
      "source": [
        "import os\n",
        "import pandas as pd\n",
        "\n",
        "files = os.listdir() \n",
        "file_list = list() \n",
        "\n",
        "# Create master file and write headers\n",
        "groundwater_sites = open('groundwater_sites.tsv','w')\n",
        "with open('groundwater_sites_AK.tsv','r') as f:\n",
        "  headers = f.readline()\n",
        "  groundwater_sites.writelines(headers)\n",
        "\n",
        "for file in os.listdir():\n",
        "  if file.startswith(\"groundwater_sites_\"):\n",
        "    with open(file) as f:\n",
        "      lines=f.readlines()\n",
        "      # this skips header\n",
        "      groundwater_sites.writelines(lines[1:])\n",
        "\n",
        "groundwater_sites.close()\n",
        "\n",
        "df = pd.read_csv('groundwater_sites.tsv', delimiter='\\t')\n",
        "df.info()\n",
        "df = df.convert_dtypes()\n",
        "df.to_csv(\"groundwater_sites.csv\")\n",
        "\n",
        "bucket_name = google_project_name + \"-\" + google_dataset_name\n",
        "upload_blob(bucket_name,'groundwater_sites.csv','groundwater_sites.csv' )\n"
      ],
      "metadata": {
        "colab": {
          "base_uri": "https://localhost:8080/"
        },
        "id": "tgHuDxKknt4s",
        "outputId": "ee13bad7-a41a-4af4-a644-deca277996a3"
      },
      "execution_count": null,
      "outputs": [
        {
          "output_type": "stream",
          "name": "stderr",
          "text": [
            "/usr/local/lib/python3.7/dist-packages/IPython/core/interactiveshell.py:2882: DtypeWarning: Columns (1,4,5,6,7,12,13,14,16,18,19,21,23,24,28,29,30,31,39,40,43,46,49,52,55) have mixed types.Specify dtype option on import or set low_memory=False.\n",
            "  exec(code_obj, self.user_global_ns, self.user_ns)\n"
          ]
        },
        {
          "output_type": "stream",
          "name": "stdout",
          "text": [
            "<class 'pandas.core.frame.DataFrame'>\n",
            "RangeIndex: 1821218 entries, 0 to 1821217\n",
            "Data columns (total 56 columns):\n",
            " #   Column                 Dtype \n",
            "---  ------                 ----- \n",
            " 0   agency_cd              object\n",
            " 1   site_no                object\n",
            " 2   station_nm             object\n",
            " 3   site_tp_cd             object\n",
            " 4   lat_va                 object\n",
            " 5   long_va                object\n",
            " 6   dec_lat_va             object\n",
            " 7   dec_long_va            object\n",
            " 8   coord_meth_cd          object\n",
            " 9   coord_acy_cd           object\n",
            " 10  coord_datum_cd         object\n",
            " 11  dec_coord_datum_cd     object\n",
            " 12  district_cd            object\n",
            " 13  state_cd               object\n",
            " 14  county_cd              object\n",
            " 15  country_cd             object\n",
            " 16  land_net_ds            object\n",
            " 17  map_nm                 object\n",
            " 18  map_scale_fc           object\n",
            " 19  alt_va                 object\n",
            " 20  alt_meth_cd            object\n",
            " 21  alt_acy_va             object\n",
            " 22  alt_datum_cd           object\n",
            " 23  huc_cd                 object\n",
            " 24  basin_cd               object\n",
            " 25  topo_cd                object\n",
            " 26  data_types_cd          object\n",
            " 27  instruments_cd         object\n",
            " 28  construction_dt        object\n",
            " 29  inventory_dt           object\n",
            " 30  drain_area_va          object\n",
            " 31  contrib_drain_area_va  object\n",
            " 32  tz_cd                  object\n",
            " 33  local_time_fg          object\n",
            " 34  reliability_cd         object\n",
            " 35  gw_file_cd             object\n",
            " 36  nat_aqfr_cd            object\n",
            " 37  aqfr_cd                object\n",
            " 38  aqfr_type_cd           object\n",
            " 39  well_depth_va          object\n",
            " 40  hole_depth_va          object\n",
            " 41  depth_src_cd           object\n",
            " 42  project_no             object\n",
            " 43  rt_bol                 object\n",
            " 44  peak_begin_date        object\n",
            " 45  peak_end_date          object\n",
            " 46  peak_count_nu          object\n",
            " 47  qw_begin_date          object\n",
            " 48  qw_end_date            object\n",
            " 49  qw_count_nu            object\n",
            " 50  gw_begin_date          object\n",
            " 51  gw_end_date            object\n",
            " 52  gw_count_nu            object\n",
            " 53  sv_begin_date          object\n",
            " 54  sv_end_date            object\n",
            " 55  sv_count_nu            object\n",
            "dtypes: object(56)\n",
            "memory usage: 778.1+ MB\n",
            "File groundwater_sites.csv uploaded to Storage Bucket with Bob name  groundwater_sites.csv successfully . 2022-05-01 19:16:50.073542\n"
          ]
        }
      ]
    },
    {
      "cell_type": "markdown",
      "source": [
        "# Upload file to GCS Bucket"
      ],
      "metadata": {
        "id": "3T2I4FU8vYCv"
      }
    },
    {
      "cell_type": "code",
      "metadata": {
        "id": "35RpEodNX9Fn",
        "colab": {
          "base_uri": "https://localhost:8080/"
        },
        "outputId": "4aa9eaf8-dbf5-4171-c425-2d9659736694"
      },
      "source": [
        "import os, datetime\n",
        "\n",
        "# if running locally will need app credentials \n",
        "# terminal\n",
        "# GOOGLE_APPLICATION_CREDENTIALS=<path>/<filename>.json\n",
        "# powershell:\n",
        "# $env:GOOGLE_APPLICATION_CREDENTIALS=\"<path>/<filename>.json\"\n",
        "\n",
        "# List the tsv files and load to BQ\n",
        "from os import listdir\n",
        "from os.path import isfile, join\n",
        "files = [f for f in os.listdir() if (isfile(f))]\n",
        "bucket_name = google_project_name + \"-\" + google_dataset_name\n",
        "for f in files:\n",
        " try: \n",
        "    upload_blob(bucket_name, f , f)\n",
        " except BaseException as err:\n",
        "    print(f,type(err))\n",
        "    print(err)"
      ],
      "execution_count": null,
      "outputs": [
        {
          "output_type": "stream",
          "name": "stdout",
          "text": [
            "File groundwater_sites_SD.tsv uploaded to Storage Bucket with Bob name  groundwater_sites_SD.tsv successfully . 2022-05-01 18:44:37.010330\n",
            "File groundwater_sites_WA.tmp uploaded to Storage Bucket with Bob name  groundwater_sites_WA.tmp successfully . 2022-05-01 18:44:37.714901\n",
            "File groundwater_sites_AL.tsv uploaded to Storage Bucket with Bob name  groundwater_sites_AL.tsv successfully . 2022-05-01 18:44:38.209740\n",
            "File groundwater_sites_NJ.tsv uploaded to Storage Bucket with Bob name  groundwater_sites_NJ.tsv successfully . 2022-05-01 18:44:38.642378\n",
            "File groundwater_sites_IA.tmp uploaded to Storage Bucket with Bob name  groundwater_sites_IA.tmp successfully . 2022-05-01 18:44:39.069240\n",
            "File groundwater_sites_KY.tmp uploaded to Storage Bucket with Bob name  groundwater_sites_KY.tmp successfully . 2022-05-01 18:44:39.514011\n",
            "File groundwater_sites_TN.tmp uploaded to Storage Bucket with Bob name  groundwater_sites_TN.tmp successfully . 2022-05-01 18:44:39.849160\n",
            "File groundwater_sites_MS.tsv uploaded to Storage Bucket with Bob name  groundwater_sites_MS.tsv successfully . 2022-05-01 18:44:40.484605\n",
            "File groundwater_sites_MT.tmp uploaded to Storage Bucket with Bob name  groundwater_sites_MT.tmp successfully . 2022-05-01 18:44:40.908147\n",
            "File groundwater_sites_SC.tmp uploaded to Storage Bucket with Bob name  groundwater_sites_SC.tmp successfully . 2022-05-01 18:44:41.315492\n",
            "File groundwater_sites_VT.tsv uploaded to Storage Bucket with Bob name  groundwater_sites_VT.tsv successfully . 2022-05-01 18:44:41.687352\n",
            "File groundwater_sites_TN.tsv uploaded to Storage Bucket with Bob name  groundwater_sites_TN.tsv successfully . 2022-05-01 18:44:42.047566\n",
            "File groundwater_sites_HI.tmp uploaded to Storage Bucket with Bob name  groundwater_sites_HI.tmp successfully . 2022-05-01 18:44:42.378098\n",
            "File groundwater_sites_CO.tmp uploaded to Storage Bucket with Bob name  groundwater_sites_CO.tmp successfully . 2022-05-01 18:44:42.847229\n",
            "File groundwater_sites_MO.tmp uploaded to Storage Bucket with Bob name  groundwater_sites_MO.tmp successfully . 2022-05-01 18:44:43.260366\n",
            "File groundwater_sites_FL.tmp uploaded to Storage Bucket with Bob name  groundwater_sites_FL.tmp successfully . 2022-05-01 18:44:43.671825\n",
            "File groundwater_sites_CA.tmp uploaded to Storage Bucket with Bob name  groundwater_sites_CA.tmp successfully . 2022-05-01 18:44:44.208595\n",
            "File groundwater_sites_IN.tmp uploaded to Storage Bucket with Bob name  groundwater_sites_IN.tmp successfully . 2022-05-01 18:44:44.581996\n",
            "File groundwater_sites_RI.tmp uploaded to Storage Bucket with Bob name  groundwater_sites_RI.tmp successfully . 2022-05-01 18:44:44.925163\n",
            "File groundwater_sites_IA.tsv uploaded to Storage Bucket with Bob name  groundwater_sites_IA.tsv successfully . 2022-05-01 18:44:45.375514\n",
            "File groundwater_sites_KS.tsv uploaded to Storage Bucket with Bob name  groundwater_sites_KS.tsv successfully . 2022-05-01 18:44:45.857468\n",
            "File groundwater_sites_LA.tmp uploaded to Storage Bucket with Bob name  groundwater_sites_LA.tmp successfully . 2022-05-01 18:44:46.327568\n",
            "File groundwater_sites_WV.tmp uploaded to Storage Bucket with Bob name  groundwater_sites_WV.tmp successfully . 2022-05-01 18:44:46.706618\n",
            "File groundwater_sites_NJ.tmp uploaded to Storage Bucket with Bob name  groundwater_sites_NJ.tmp successfully . 2022-05-01 18:44:47.120211\n",
            "File groundwater_sites_SD.tmp uploaded to Storage Bucket with Bob name  groundwater_sites_SD.tmp successfully . 2022-05-01 18:44:47.610867\n",
            "File groundwater_sites_WA.tsv uploaded to Storage Bucket with Bob name  groundwater_sites_WA.tsv successfully . 2022-05-01 18:44:48.276748\n",
            "File groundwater_sites_KY.tsv uploaded to Storage Bucket with Bob name  groundwater_sites_KY.tsv successfully . 2022-05-01 18:44:48.666915\n",
            "File groundwater_sites_UT.tmp uploaded to Storage Bucket with Bob name  groundwater_sites_UT.tmp successfully . 2022-05-01 18:44:49.071124\n",
            "File groundwater_sites_AK.tsv uploaded to Storage Bucket with Bob name  groundwater_sites_AK.tsv successfully . 2022-05-01 18:44:49.513330\n",
            "File groundwater_sites_CO.tsv uploaded to Storage Bucket with Bob name  groundwater_sites_CO.tsv successfully . 2022-05-01 18:44:49.936186\n",
            "File groundwater_sites_OK.tmp uploaded to Storage Bucket with Bob name  groundwater_sites_OK.tmp successfully . 2022-05-01 18:44:50.374604\n",
            "File groundwater_sites_WY.tmp uploaded to Storage Bucket with Bob name  groundwater_sites_WY.tmp successfully . 2022-05-01 18:44:50.798355\n",
            "File groundwater_sites_VT.tmp uploaded to Storage Bucket with Bob name  groundwater_sites_VT.tmp successfully . 2022-05-01 18:44:51.145972\n",
            "File groundwater_sites_NY.tmp uploaded to Storage Bucket with Bob name  groundwater_sites_NY.tmp successfully . 2022-05-01 18:44:51.636485\n",
            "File groundwater_sites_OH.tsv uploaded to Storage Bucket with Bob name  groundwater_sites_OH.tsv successfully . 2022-05-01 18:44:51.975768\n",
            "File groundwater_sites_GA.tsv uploaded to Storage Bucket with Bob name  groundwater_sites_GA.tsv successfully . 2022-05-01 18:44:52.452721\n",
            "File groundwater_sites_TX.tmp uploaded to Storage Bucket with Bob name  groundwater_sites_TX.tmp successfully . 2022-05-01 18:44:52.879195\n",
            "File groundwater_sites_MT.tsv uploaded to Storage Bucket with Bob name  groundwater_sites_MT.tsv successfully . 2022-05-01 18:44:53.296330\n",
            "File groundwater_sites_MI.tsv uploaded to Storage Bucket with Bob name  groundwater_sites_MI.tsv successfully . 2022-05-01 18:44:53.649594\n",
            "File groundwater_sites_AK.tmp uploaded to Storage Bucket with Bob name  groundwater_sites_AK.tmp successfully . 2022-05-01 18:44:54.067398\n",
            "File groundwater_sites_HI.tsv uploaded to Storage Bucket with Bob name  groundwater_sites_HI.tsv successfully . 2022-05-01 18:44:54.422468\n",
            "File groundwater_sites_AZ.tmp uploaded to Storage Bucket with Bob name  groundwater_sites_AZ.tmp successfully . 2022-05-01 18:44:54.941974\n",
            "File groundwater_sites_AL.tmp uploaded to Storage Bucket with Bob name  groundwater_sites_AL.tmp successfully . 2022-05-01 18:44:55.348014\n",
            "File groundwater_sites_MN.tsv uploaded to Storage Bucket with Bob name  groundwater_sites_MN.tsv successfully . 2022-05-01 18:44:56.160565\n",
            "File groundwater_sites_ND.tmp uploaded to Storage Bucket with Bob name  groundwater_sites_ND.tmp successfully . 2022-05-01 18:44:56.599885\n",
            "File groundwater_sites_ME.tmp uploaded to Storage Bucket with Bob name  groundwater_sites_ME.tmp successfully . 2022-05-01 18:44:56.938170\n",
            "File groundwater_sites_LA.tsv uploaded to Storage Bucket with Bob name  groundwater_sites_LA.tsv successfully . 2022-05-01 18:44:57.474153\n",
            "File groundwater_sites_ID.tmp uploaded to Storage Bucket with Bob name  groundwater_sites_ID.tmp successfully . 2022-05-01 18:44:57.922282\n",
            "File groundwater_sites_AR.tsv uploaded to Storage Bucket with Bob name  groundwater_sites_AR.tsv successfully . 2022-05-01 18:44:58.305208\n",
            "File groundwater_sites_IL.tmp uploaded to Storage Bucket with Bob name  groundwater_sites_IL.tmp successfully . 2022-05-01 18:44:58.656145\n",
            "File groundwater_sites_NM.tsv uploaded to Storage Bucket with Bob name  groundwater_sites_NM.tsv successfully . 2022-05-01 18:44:59.253565\n",
            "File groundwater_sites_OK.tsv uploaded to Storage Bucket with Bob name  groundwater_sites_OK.tsv successfully . 2022-05-01 18:44:59.710690\n",
            "File groundwater_sites_OH.tmp uploaded to Storage Bucket with Bob name  groundwater_sites_OH.tmp successfully . 2022-05-01 18:45:00.060990\n",
            "File groundwater_sites_OR.tsv uploaded to Storage Bucket with Bob name  groundwater_sites_OR.tsv successfully . 2022-05-01 18:45:00.500064\n",
            "File groundwater_sites_DE.tsv uploaded to Storage Bucket with Bob name  groundwater_sites_DE.tsv successfully . 2022-05-01 18:45:00.859425\n",
            "File groundwater_sites_DC.tsv uploaded to Storage Bucket with Bob name  groundwater_sites_DC.tsv successfully . 2022-05-01 18:45:01.220664\n",
            "File groundwater_sites_PA.tsv uploaded to Storage Bucket with Bob name  groundwater_sites_PA.tsv successfully . 2022-05-01 18:45:01.722467\n",
            "File groundwater_sites_KS.tmp uploaded to Storage Bucket with Bob name  groundwater_sites_KS.tmp successfully . 2022-05-01 18:45:02.221435\n",
            "File groundwater_sites_RI.tsv uploaded to Storage Bucket with Bob name  groundwater_sites_RI.tsv successfully . 2022-05-01 18:45:02.550796\n",
            "File groundwater_sites_ND.tsv uploaded to Storage Bucket with Bob name  groundwater_sites_ND.tsv successfully . 2022-05-01 18:45:02.993676\n",
            "File groundwater_sites_MN.tmp uploaded to Storage Bucket with Bob name  groundwater_sites_MN.tmp successfully . 2022-05-01 18:45:03.754932\n",
            "File groundwater_sites_PA.tmp uploaded to Storage Bucket with Bob name  groundwater_sites_PA.tmp successfully . 2022-05-01 18:45:04.292122\n",
            "File groundwater_sites_NY.tsv uploaded to Storage Bucket with Bob name  groundwater_sites_NY.tsv successfully . 2022-05-01 18:45:04.819705\n",
            "File groundwater_sites_NC.tmp uploaded to Storage Bucket with Bob name  groundwater_sites_NC.tmp successfully . 2022-05-01 18:45:05.233739\n",
            "File groundwater_sites_WY.tsv uploaded to Storage Bucket with Bob name  groundwater_sites_WY.tsv successfully . 2022-05-01 18:45:05.737309\n",
            "File groundwater_sites_NE.tmp uploaded to Storage Bucket with Bob name  groundwater_sites_NE.tmp successfully . 2022-05-01 18:45:06.174263\n",
            "File groundwater_sites_GA.tmp uploaded to Storage Bucket with Bob name  groundwater_sites_GA.tmp successfully . 2022-05-01 18:45:06.608578\n",
            "File groundwater_sites_CT.tsv uploaded to Storage Bucket with Bob name  groundwater_sites_CT.tsv successfully . 2022-05-01 18:45:06.995822\n",
            "File groundwater_sites_NH.tmp uploaded to Storage Bucket with Bob name  groundwater_sites_NH.tmp successfully . 2022-05-01 18:45:07.406429\n",
            "File groundwater_sites_SC.tsv uploaded to Storage Bucket with Bob name  groundwater_sites_SC.tsv successfully . 2022-05-01 18:45:07.925483\n",
            "File groundwater_sites_MA.tmp uploaded to Storage Bucket with Bob name  groundwater_sites_MA.tmp successfully . 2022-05-01 18:45:08.361089\n",
            "File groundwater_sites_MD.tmp uploaded to Storage Bucket with Bob name  groundwater_sites_MD.tmp successfully . 2022-05-01 18:45:08.780843\n",
            "File groundwater_sites_ID.tsv uploaded to Storage Bucket with Bob name  groundwater_sites_ID.tsv successfully . 2022-05-01 18:45:09.194965\n",
            "File groundwater_sites_NC.tsv uploaded to Storage Bucket with Bob name  groundwater_sites_NC.tsv successfully . 2022-05-01 18:45:09.585355\n",
            "File groundwater_sites_MI.tmp uploaded to Storage Bucket with Bob name  groundwater_sites_MI.tmp successfully . 2022-05-01 18:45:09.949798\n",
            "File groundwater_sites_IN.tsv uploaded to Storage Bucket with Bob name  groundwater_sites_IN.tsv successfully . 2022-05-01 18:45:10.287093\n",
            "File groundwater_sites_NE.tsv uploaded to Storage Bucket with Bob name  groundwater_sites_NE.tsv successfully . 2022-05-01 18:45:10.715098\n",
            "File groundwater_sites_NV.tmp uploaded to Storage Bucket with Bob name  groundwater_sites_NV.tmp successfully . 2022-05-01 18:45:11.156108\n",
            "File groundwater_sites_FL.tsv uploaded to Storage Bucket with Bob name  groundwater_sites_FL.tsv successfully . 2022-05-01 18:45:11.574021\n",
            "File groundwater_sites_AR.tmp uploaded to Storage Bucket with Bob name  groundwater_sites_AR.tmp successfully . 2022-05-01 18:45:11.987608\n",
            "File groundwater_sites_DE.tmp uploaded to Storage Bucket with Bob name  groundwater_sites_DE.tmp successfully . 2022-05-01 18:45:12.301604\n",
            "File groundwater_sites_IL.tsv uploaded to Storage Bucket with Bob name  groundwater_sites_IL.tsv successfully . 2022-05-01 18:45:12.653928\n",
            "File groundwater_sites_AZ.tsv uploaded to Storage Bucket with Bob name  groundwater_sites_AZ.tsv successfully . 2022-05-01 18:45:13.220863\n",
            "File groundwater_sites_WV.tsv uploaded to Storage Bucket with Bob name  groundwater_sites_WV.tsv successfully . 2022-05-01 18:45:13.578368\n",
            "File groundwater_sites_VA.tsv uploaded to Storage Bucket with Bob name  groundwater_sites_VA.tsv successfully . 2022-05-01 18:45:13.945116\n",
            "File groundwater_sites_UT.tsv uploaded to Storage Bucket with Bob name  groundwater_sites_UT.tsv successfully . 2022-05-01 18:45:14.356085\n",
            "File groundwater_sites_DC.tmp uploaded to Storage Bucket with Bob name  groundwater_sites_DC.tmp successfully . 2022-05-01 18:45:14.745628\n",
            "File groundwater_sites_TX.tsv uploaded to Storage Bucket with Bob name  groundwater_sites_TX.tsv successfully . 2022-05-01 18:45:15.175358\n",
            "File groundwater_sites_OR.tmp uploaded to Storage Bucket with Bob name  groundwater_sites_OR.tmp successfully . 2022-05-01 18:45:15.583060\n",
            "File groundwater_sites_NV.tsv uploaded to Storage Bucket with Bob name  groundwater_sites_NV.tsv successfully . 2022-05-01 18:45:15.999565\n",
            "File groundwater_sites_WI.tmp uploaded to Storage Bucket with Bob name  groundwater_sites_WI.tmp successfully . 2022-05-01 18:45:16.444249\n",
            "File groundwater_sites_MS.tmp uploaded to Storage Bucket with Bob name  groundwater_sites_MS.tmp successfully . 2022-05-01 18:45:17.072745\n",
            "File groundwater_sites_MO.tsv uploaded to Storage Bucket with Bob name  groundwater_sites_MO.tsv successfully . 2022-05-01 18:45:17.485341\n",
            "File groundwater_sites_CA.tsv uploaded to Storage Bucket with Bob name  groundwater_sites_CA.tsv successfully . 2022-05-01 18:45:18.022499\n",
            "File groundwater_sites_VA.tmp uploaded to Storage Bucket with Bob name  groundwater_sites_VA.tmp successfully . 2022-05-01 18:45:18.409218\n",
            "File groundwater_sites_WI.tsv uploaded to Storage Bucket with Bob name  groundwater_sites_WI.tsv successfully . 2022-05-01 18:45:18.846976\n",
            "File groundwater_sites_CT.tmp uploaded to Storage Bucket with Bob name  groundwater_sites_CT.tmp successfully . 2022-05-01 18:45:19.247996\n",
            "File groundwater_sites_NM.tmp uploaded to Storage Bucket with Bob name  groundwater_sites_NM.tmp successfully . 2022-05-01 18:45:19.795610\n",
            "File groundwater_sites_MD.tsv uploaded to Storage Bucket with Bob name  groundwater_sites_MD.tsv successfully . 2022-05-01 18:45:20.288266\n",
            "File groundwater_sites_NH.tsv uploaded to Storage Bucket with Bob name  groundwater_sites_NH.tsv successfully . 2022-05-01 18:45:20.759761\n",
            "File groundwater_sites_ME.tsv uploaded to Storage Bucket with Bob name  groundwater_sites_ME.tsv successfully . 2022-05-01 18:45:21.107054\n",
            "File groundwater_sites_MA.tsv uploaded to Storage Bucket with Bob name  groundwater_sites_MA.tsv successfully . 2022-05-01 18:45:21.527995\n"
          ]
        }
      ]
    },
    {
      "cell_type": "markdown",
      "source": [
        "# Upload files to BigQuery Table"
      ],
      "metadata": {
        "id": "C5PbV1MFvNo7"
      }
    },
    {
      "cell_type": "code",
      "source": [
        "# https://cloud.google.com/bigquery/docs/batch-loading-data#bq\n",
        "import os, sys, datetime\n",
        "from google.cloud import bigquery\n",
        "\n",
        "# Construct a BigQuery client object.\n",
        "client = bigquery.Client(project=google_project_name)\n",
        "job_config = bigquery.LoadJobConfig(\n",
        "    source_format=bigquery.SourceFormat.CSV, \n",
        "    fieldDelimiter=\"\\t\",\n",
        "    skip_leading_rows=1, \n",
        "    autodetect=True\n",
        ")\n",
        "\n",
        "# List the tsv files and load to BQ\n",
        "from os import listdir\n",
        "from os.path import isfile, join\n",
        "files = [f for f in os.listdir() if (isfile(f) and f.endswith(\".tsv\"))]\n",
        "\n",
        "for f in files:\n",
        "  table_name = f.split(\".\")[0]\n",
        "  table_id = google_project_name + \".\" + google_dataset_name + \".\" + table_name\n",
        "  with open(f, \"rb\") as source_file:\n",
        "    try:\n",
        "      job = client.load_table_from_file(source_file, table_id, job_config=job_config)\n",
        "\n",
        "      job.result()  # Waits for the job to complete.\n",
        "\n",
        "      table = client.get_table(table_id)  # Make an API request.\n",
        "      print(\n",
        "          \"Loaded {} rows and {} columns to {} at {}\".format(\n",
        "              table.num_rows, len(table.schema), table_id, datetime.datetime.now())\n",
        "          )\n",
        "    except BaseException as err:\n",
        "      print(f, table_name, type(err))\n",
        "      print(err)\n"
      ],
      "metadata": {
        "colab": {
          "base_uri": "https://localhost:8080/"
        },
        "id": "aojMYq-KncmM",
        "outputId": "f53bfbb1-784e-4c6b-b7a1-66262972940f"
      },
      "execution_count": null,
      "outputs": [
        {
          "output_type": "stream",
          "name": "stdout",
          "text": [
            "Loaded 64692 rows and 56 columns to msd8654-498-dev.usgs.groundwater_sites_SD at 2022-05-01 20:45:31.926462\n",
            "Loaded 14787 rows and 56 columns to msd8654-498-dev.usgs.groundwater_sites_AL at 2022-05-01 20:45:35.767831\n",
            "Loaded 14004 rows and 56 columns to msd8654-498-dev.usgs.groundwater_sites_NJ at 2022-05-01 20:45:41.734046\n",
            "groundwater_sites.tsv groundwater_sites <class 'google.api_core.exceptions.BadRequest'>\n",
            "400 Provided Schema does not match Table msd8654-498-dev:usgs.groundwater_sites. Field site_no has changed type from STRING to INTEGER\n",
            "Loaded 127704 rows and 56 columns to msd8654-498-dev.usgs.groundwater_sites_MS at 2022-05-01 20:46:45.279539\n",
            "Loaded 4006 rows and 56 columns to msd8654-498-dev.usgs.groundwater_sites_VT at 2022-05-01 20:46:48.633671\n",
            "Loaded 6212 rows and 56 columns to msd8654-498-dev.usgs.groundwater_sites_TN at 2022-05-01 20:46:54.971237\n",
            "Loaded 15766 rows and 56 columns to msd8654-498-dev.usgs.groundwater_sites_IA at 2022-05-01 20:47:00.466902\n",
            "Loaded 55120 rows and 56 columns to msd8654-498-dev.usgs.groundwater_sites_KS at 2022-05-01 20:47:06.829042\n",
            "Loaded 151604 rows and 56 columns to msd8654-498-dev.usgs.groundwater_sites_WA at 2022-05-01 20:47:21.540542\n",
            "Loaded 17318 rows and 56 columns to msd8654-498-dev.usgs.groundwater_sites_KY at 2022-05-01 20:47:26.182236\n",
            "Loaded 29318 rows and 56 columns to msd8654-498-dev.usgs.groundwater_sites_AK at 2022-05-01 20:47:32.237186\n",
            "Loaded 42216 rows and 56 columns to msd8654-498-dev.usgs.groundwater_sites_CO at 2022-05-01 20:47:42.346851\n",
            "Loaded 9674 rows and 56 columns to msd8654-498-dev.usgs.groundwater_sites_OH at 2022-05-01 20:47:46.858519\n",
            "Loaded 15610 rows and 56 columns to msd8654-498-dev.usgs.groundwater_sites_GA at 2022-05-01 20:47:50.570752\n",
            "Loaded 38902 rows and 56 columns to msd8654-498-dev.usgs.groundwater_sites_MT at 2022-05-01 20:48:00.318290\n",
            "Loaded 4078 rows and 56 columns to msd8654-498-dev.usgs.groundwater_sites_MI at 2022-05-01 20:48:07.620362\n",
            "Loaded 4344 rows and 56 columns to msd8654-498-dev.usgs.groundwater_sites_HI at 2022-05-01 20:48:14.875878\n",
            "Loaded 184444 rows and 56 columns to msd8654-498-dev.usgs.groundwater_sites_MN at 2022-05-01 20:48:58.817842\n",
            "Loaded 62112 rows and 56 columns to msd8654-498-dev.usgs.groundwater_sites_LA at 2022-05-01 20:49:17.231709\n",
            "Loaded 21128 rows and 56 columns to msd8654-498-dev.usgs.groundwater_sites_AR at 2022-05-01 20:49:23.295100\n",
            "Loaded 60204 rows and 56 columns to msd8654-498-dev.usgs.groundwater_sites_NM at 2022-05-01 20:49:32.187802\n",
            "Loaded 41650 rows and 56 columns to msd8654-498-dev.usgs.groundwater_sites_OK at 2022-05-01 20:49:42.326708\n",
            "Loaded 17758 rows and 56 columns to msd8654-498-dev.usgs.groundwater_sites_OR at 2022-05-01 20:49:51.746115\n",
            "Loaded 2486 rows and 56 columns to msd8654-498-dev.usgs.groundwater_sites_DE at 2022-05-01 20:49:56.908184\n",
            "Loaded 114 rows and 56 columns to msd8654-498-dev.usgs.groundwater_sites_DC at 2022-05-01 20:50:01.660596\n",
            "Loaded 71336 rows and 56 columns to msd8654-498-dev.usgs.groundwater_sites_PA at 2022-05-01 20:50:11.878037\n",
            "Loaded 5494 rows and 56 columns to msd8654-498-dev.usgs.groundwater_sites_RI at 2022-05-01 20:50:14.831512\n",
            "Loaded 38042 rows and 56 columns to msd8654-498-dev.usgs.groundwater_sites_ND at 2022-05-01 20:50:22.624487\n",
            "Loaded 65890 rows and 56 columns to msd8654-498-dev.usgs.groundwater_sites_NY at 2022-05-01 20:50:31.747335\n",
            "Loaded 20836 rows and 56 columns to msd8654-498-dev.usgs.groundwater_sites_WY at 2022-05-01 20:50:42.502555\n",
            "Loaded 10402 rows and 56 columns to msd8654-498-dev.usgs.groundwater_sites_CT at 2022-05-01 20:50:46.023252\n",
            "Loaded 17186 rows and 56 columns to msd8654-498-dev.usgs.groundwater_sites_SC at 2022-05-01 20:50:54.291871\n",
            "Loaded 38704 rows and 56 columns to msd8654-498-dev.usgs.groundwater_sites_ID at 2022-05-01 20:51:02.317144\n",
            "Loaded 18036 rows and 56 columns to msd8654-498-dev.usgs.groundwater_sites_NC at 2022-05-01 20:51:08.123585\n",
            "Loaded 8680 rows and 56 columns to msd8654-498-dev.usgs.groundwater_sites_IN at 2022-05-01 20:51:13.731200\n",
            "Loaded 43424 rows and 56 columns to msd8654-498-dev.usgs.groundwater_sites_NE at 2022-05-01 20:51:21.785956\n",
            "groundwater_sites_FL.tsv groundwater_sites_FL <class 'google.api_core.exceptions.BadRequest'>\n",
            "400 Error while reading data, error message: Could not parse '1956' as DATE for field gw_begin_date (position 50) starting at location 3985500  with message 'Failed to parse input string \"1956\"'\n",
            "Loaded 6768 rows and 56 columns to msd8654-498-dev.usgs.groundwater_sites_IL at 2022-05-01 20:51:37.518114\n",
            "Loaded 73348 rows and 56 columns to msd8654-498-dev.usgs.groundwater_sites_AZ at 2022-05-01 20:51:51.546845\n",
            "Loaded 10928 rows and 56 columns to msd8654-498-dev.usgs.groundwater_sites_WV at 2022-05-01 20:52:00.247650\n",
            "Loaded 9622 rows and 56 columns to msd8654-498-dev.usgs.groundwater_sites_VA at 2022-05-01 20:52:06.821315\n",
            "Loaded 31370 rows and 56 columns to msd8654-498-dev.usgs.groundwater_sites_UT at 2022-05-01 20:52:29.822869\n",
            "Loaded 39330 rows and 56 columns to msd8654-498-dev.usgs.groundwater_sites_TX at 2022-05-01 20:52:36.142985\n",
            "Loaded 24764 rows and 56 columns to msd8654-498-dev.usgs.groundwater_sites_NV at 2022-05-01 20:52:44.894053\n",
            "Loaded 20794 rows and 56 columns to msd8654-498-dev.usgs.groundwater_sites_MO at 2022-05-01 20:52:49.539608\n",
            "Loaded 87646 rows and 56 columns to msd8654-498-dev.usgs.groundwater_sites_CA at 2022-05-01 20:53:17.434882\n",
            "Loaded 37842 rows and 56 columns to msd8654-498-dev.usgs.groundwater_sites_WI at 2022-05-01 20:53:25.135487\n",
            "Loaded 45380 rows and 56 columns to msd8654-498-dev.usgs.groundwater_sites_MD at 2022-05-01 20:53:32.865624\n",
            "Loaded 32462 rows and 56 columns to msd8654-498-dev.usgs.groundwater_sites_NH at 2022-05-01 20:53:41.820650\n",
            "Loaded 2342 rows and 56 columns to msd8654-498-dev.usgs.groundwater_sites_ME at 2022-05-01 20:53:45.235294\n",
            "Loaded 35052 rows and 56 columns to msd8654-498-dev.usgs.groundwater_sites_MA at 2022-05-01 20:53:55.531492\n"
          ]
        }
      ]
    }
  ]
}